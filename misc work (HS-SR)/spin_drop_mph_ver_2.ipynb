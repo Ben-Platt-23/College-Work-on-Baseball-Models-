{
 "cells": [
  {
   "cell_type": "code",
   "execution_count": 1,
   "metadata": {},
   "outputs": [],
   "source": [
    "import pandas as pd\n",
    "import numpy as np\n",
    "import matplotlib.pyplot as plt\n",
    "from scipy import stats"
   ]
  },
  {
   "cell_type": "code",
   "execution_count": 2,
   "metadata": {},
   "outputs": [],
   "source": [
    "pi = pd.read_csv('wFB_vFA(pi)_FA-Z(pi).csv')"
   ]
  },
  {
   "cell_type": "code",
   "execution_count": 3,
   "metadata": {},
   "outputs": [],
   "source": [
    "run_value = pd.read_csv('run_value.csv')"
   ]
  },
  {
   "cell_type": "code",
   "execution_count": 4,
   "metadata": {},
   "outputs": [
    {
     "data": {
      "text/plain": [
       "Index(['Season', 'Name', 'Team', 'wFA (pi)', 'playerid'], dtype='object')"
      ]
     },
     "execution_count": 4,
     "metadata": {},
     "output_type": "execute_result"
    }
   ],
   "source": [
    "run_value.columns"
   ]
  },
  {
   "cell_type": "code",
   "execution_count": 5,
   "metadata": {},
   "outputs": [],
   "source": [
    "run_value = run_value.drop(columns = ['Team'])"
   ]
  },
  {
   "cell_type": "code",
   "execution_count": 6,
   "metadata": {},
   "outputs": [],
   "source": [
    "run_value = run_value.rename(columns={'wFA (pi)':'wFA'})"
   ]
  },
  {
   "cell_type": "code",
   "execution_count": 7,
   "metadata": {},
   "outputs": [
    {
     "data": {
      "text/plain": [
       "Index(['Season', 'Name', 'wFA', 'playerid'], dtype='object')"
      ]
     },
     "execution_count": 7,
     "metadata": {},
     "output_type": "execute_result"
    }
   ],
   "source": [
    "run_value.columns"
   ]
  },
  {
   "cell_type": "code",
   "execution_count": 8,
   "metadata": {},
   "outputs": [
    {
     "data": {
      "text/html": [
       "<div>\n",
       "<style scoped>\n",
       "    .dataframe tbody tr th:only-of-type {\n",
       "        vertical-align: middle;\n",
       "    }\n",
       "\n",
       "    .dataframe tbody tr th {\n",
       "        vertical-align: top;\n",
       "    }\n",
       "\n",
       "    .dataframe thead th {\n",
       "        text-align: right;\n",
       "    }\n",
       "</style>\n",
       "<table border=\"1\" class=\"dataframe\">\n",
       "  <thead>\n",
       "    <tr style=\"text-align: right;\">\n",
       "      <th></th>\n",
       "      <th>Season</th>\n",
       "      <th>wFB</th>\n",
       "      <th>FA-Z (pi)</th>\n",
       "      <th>vFA (pi)</th>\n",
       "      <th>playerid</th>\n",
       "    </tr>\n",
       "  </thead>\n",
       "  <tbody>\n",
       "    <tr>\n",
       "      <th>Season</th>\n",
       "      <td>1.000000</td>\n",
       "      <td>0.080897</td>\n",
       "      <td>-0.006773</td>\n",
       "      <td>0.121810</td>\n",
       "      <td>0.430290</td>\n",
       "    </tr>\n",
       "    <tr>\n",
       "      <th>wFB</th>\n",
       "      <td>0.080897</td>\n",
       "      <td>1.000000</td>\n",
       "      <td>0.150614</td>\n",
       "      <td>0.238832</td>\n",
       "      <td>0.086997</td>\n",
       "    </tr>\n",
       "    <tr>\n",
       "      <th>FA-Z (pi)</th>\n",
       "      <td>-0.006773</td>\n",
       "      <td>0.150614</td>\n",
       "      <td>1.000000</td>\n",
       "      <td>0.129383</td>\n",
       "      <td>-0.045878</td>\n",
       "    </tr>\n",
       "    <tr>\n",
       "      <th>vFA (pi)</th>\n",
       "      <td>0.121810</td>\n",
       "      <td>0.238832</td>\n",
       "      <td>0.129383</td>\n",
       "      <td>1.000000</td>\n",
       "      <td>0.306178</td>\n",
       "    </tr>\n",
       "    <tr>\n",
       "      <th>playerid</th>\n",
       "      <td>0.430290</td>\n",
       "      <td>0.086997</td>\n",
       "      <td>-0.045878</td>\n",
       "      <td>0.306178</td>\n",
       "      <td>1.000000</td>\n",
       "    </tr>\n",
       "  </tbody>\n",
       "</table>\n",
       "</div>"
      ],
      "text/plain": [
       "             Season       wFB  FA-Z (pi)  vFA (pi)  playerid\n",
       "Season     1.000000  0.080897  -0.006773  0.121810  0.430290\n",
       "wFB        0.080897  1.000000   0.150614  0.238832  0.086997\n",
       "FA-Z (pi) -0.006773  0.150614   1.000000  0.129383 -0.045878\n",
       "vFA (pi)   0.121810  0.238832   0.129383  1.000000  0.306178\n",
       "playerid   0.430290  0.086997  -0.045878  0.306178  1.000000"
      ]
     },
     "execution_count": 8,
     "metadata": {},
     "output_type": "execute_result"
    }
   ],
   "source": [
    "pi.corr()"
   ]
  },
  {
   "cell_type": "code",
   "execution_count": 9,
   "metadata": {},
   "outputs": [
    {
     "data": {
      "text/plain": [
       "Index(['Season', 'Name', 'Team', 'wFB', 'FA-Z (pi)', 'vFA (pi)', 'playerid'], dtype='object')"
      ]
     },
     "execution_count": 9,
     "metadata": {},
     "output_type": "execute_result"
    }
   ],
   "source": [
    "pi.columns"
   ]
  },
  {
   "cell_type": "code",
   "execution_count": 10,
   "metadata": {},
   "outputs": [],
   "source": [
    "pi = pi.rename(columns={'FA-Z (pi)':'FAZ', 'vFA (pi)':'vFA'})"
   ]
  },
  {
   "cell_type": "code",
   "execution_count": 11,
   "metadata": {},
   "outputs": [],
   "source": [
    "pi_names = pi.Name"
   ]
  },
  {
   "cell_type": "code",
   "execution_count": 12,
   "metadata": {},
   "outputs": [],
   "source": [
    "pi = pi.drop(columns=['Name', 'Team'])"
   ]
  },
  {
   "cell_type": "code",
   "execution_count": 13,
   "metadata": {},
   "outputs": [
    {
     "data": {
      "text/plain": [
       "Index(['Season', 'wFB', 'FAZ', 'vFA', 'playerid'], dtype='object')"
      ]
     },
     "execution_count": 13,
     "metadata": {},
     "output_type": "execute_result"
    }
   ],
   "source": [
    "pi.columns"
   ]
  },
  {
   "cell_type": "code",
   "execution_count": 14,
   "metadata": {},
   "outputs": [
    {
     "data": {
      "text/plain": [
       "0    Shane Bieber\n",
       "1    Zack Greinke\n",
       "2    Jacob deGrom\n",
       "3    Trevor Bauer\n",
       "4    Jake Arrieta\n",
       "Name: Name, dtype: object"
      ]
     },
     "execution_count": 14,
     "metadata": {},
     "output_type": "execute_result"
    }
   ],
   "source": [
    "pi_names.head(5)"
   ]
  },
  {
   "cell_type": "code",
   "execution_count": 15,
   "metadata": {},
   "outputs": [],
   "source": [
    "pi = pi.astype(float)"
   ]
  },
  {
   "cell_type": "code",
   "execution_count": 16,
   "metadata": {},
   "outputs": [
    {
     "name": "stdout",
     "output_type": "stream",
     "text": [
      "0      9.0528\n",
      "1      8.2147\n",
      "2      8.0892\n",
      "3      9.8385\n",
      "4      7.5840\n",
      "        ...  \n",
      "403    7.1071\n",
      "404    7.2072\n",
      "405    7.2960\n",
      "406    7.3075\n",
      "407    6.7087\n",
      "Length: 408, dtype: float64\n"
     ]
    }
   ],
   "source": [
    "pitch_value = (pi.FAZ * pi.vFA) / 100\n",
    "print(pitch_value)"
   ]
  },
  {
   "cell_type": "code",
   "execution_count": 17,
   "metadata": {},
   "outputs": [
    {
     "name": "stdout",
     "output_type": "stream",
     "text": [
      "2.636184074353517\n"
     ]
    }
   ],
   "source": [
    "vfa_std = np.std(pi.vFA)\n",
    "print(vfa_std)"
   ]
  },
  {
   "cell_type": "code",
   "execution_count": 18,
   "metadata": {},
   "outputs": [
    {
     "name": "stdout",
     "output_type": "stream",
     "text": [
      "6.94946647387511\n"
     ]
    }
   ],
   "source": [
    "vfa_variance = np.var(pi.vFA)\n",
    "print(vfa_variance)"
   ]
  },
  {
   "cell_type": "code",
   "execution_count": 19,
   "metadata": {},
   "outputs": [
    {
     "name": "stdout",
     "output_type": "stream",
     "text": [
      "96.0\n"
     ]
    }
   ],
   "source": [
    "vfa_90_percentile = np.nanpercentile(pi.vFA, 90)\n",
    "print(vfa_90_percentile)\n",
    "\n",
    "# Need to use nan version for some reason but hey it works"
   ]
  },
  {
   "cell_type": "code",
   "execution_count": 20,
   "metadata": {},
   "outputs": [
    {
     "name": "stdout",
     "output_type": "stream",
     "text": [
      "89.9\n"
     ]
    }
   ],
   "source": [
    "vfa_sub_90mph_percentile = np.nanpercentile(pi.vFA, 12)\n",
    "print(vfa_sub_90mph_percentile)\n",
    "# This basically says that only about 12% percent of MLB players have an AVG fastball velocity below 90 MPH"
   ]
  },
  {
   "cell_type": "code",
   "execution_count": 21,
   "metadata": {},
   "outputs": [
    {
     "data": {
      "text/plain": [
       "<function matplotlib.pyplot.show(close=None, block=None)>"
      ]
     },
     "execution_count": 21,
     "metadata": {},
     "output_type": "execute_result"
    },
    {
     "data": {
      "image/png": "[encoded data removed]",
      "text/plain": [
       "<Figure size 432x288 with 1 Axes>"
      ]
     },
     "metadata": {
      "needs_background": "light"
     },
     "output_type": "display_data"
    }
   ],
   "source": [
    "x = np.array(pi.vFA)\n",
    "plt.hist(x, 10)\n",
    "plt.title('Histogram of AVG MLB Fastball velocity in MPH from **** to ****')\n",
    "plt.xlabel('Fastball Velocity in MPH')\n",
    "plt.ylabel('Players/Instances of velocity AVG')\n",
    "plt.show"
   ]
  },
  {
   "cell_type": "code",
   "execution_count": 17,
   "metadata": {},
   "outputs": [
    {
     "data": {
      "text/plain": [
       "<function matplotlib.pyplot.show(close=None, block=None)>"
      ]
     },
     "execution_count": 17,
     "metadata": {},
     "output_type": "execute_result"
    },
    {
     "data": {
      "image/png": "[encoded data removed]",
      "text/plain": [
       "<Figure size 432x288 with 1 Axes>"
      ]
     },
     "metadata": {
      "needs_background": "light"
     },
     "output_type": "display_data"
    }
   ],
   "source": [
    "x = pi.vFA\n",
    "y = pi.FAZ\n",
    "\n",
    "plt.scatter(x, y)\n",
    "plt.title('Comparing Fastball Velocity to Vertical Drop')\n",
    "plt.xlabel('Average Fastball Velocity in MPH')\n",
    "plt.ylabel('Fastball Horizontal Drop in Inches')\n",
    "plt.show"
   ]
  },
  {
   "cell_type": "code",
   "execution_count": 28,
   "metadata": {},
   "outputs": [
    {
     "name": "stdout",
     "output_type": "stream",
     "text": [
      "0      905.28\n",
      "1      821.47\n",
      "2      808.92\n",
      "3      983.85\n",
      "4      758.40\n",
      "        ...  \n",
      "403    710.71\n",
      "404    720.72\n",
      "405    729.60\n",
      "406    730.75\n",
      "407    670.87\n",
      "Length: 408, dtype: float64\n"
     ]
    }
   ],
   "source": [
    "area = pi.vFA * pi.FAZ\n",
    "print(area)"
   ]
  },
  {
   "cell_type": "code",
   "execution_count": 36,
   "metadata": {},
   "outputs": [
    {
     "data": {
      "text/plain": [
       "<function matplotlib.pyplot.show(close=None, block=None)>"
      ]
     },
     "execution_count": 36,
     "metadata": {},
     "output_type": "execute_result"
    },
    {
     "data": {
      "image/png": "[encoded data removed]",
      "text/plain": [
       "<Figure size 432x288 with 1 Axes>"
      ]
     },
     "metadata": {
      "needs_background": "light"
     },
     "output_type": "display_data"
    }
   ],
   "source": [
    "x = area\n",
    "y = run_value.wFA\n",
    "\n",
    "plt.scatter(x, y)\n",
    "plt.title('Comparing the Area of AVG Fastball Velocity and Vertical Drop to Fastball Run Value')\n",
    "plt.xlabel('Area of Fastball Velocity and Vertical Drop (Velo * Drop)')\n",
    "plt.ylabel('Run Value from Fangraphs')\n",
    "plt.show"
   ]
  }
 ],
 "metadata": {
  "interpreter": {
   "hash": "b0fa6594d8f4cbf19f97940f81e996739fb7646882a419484c72d19e05852a7e"
  },
  "kernelspec": {
   "display_name": "Python 3.9.10 64-bit",
   "language": "python",
   "name": "python3"
  },
  "language_info": {
   "codemirror_mode": {
    "name": "ipython",
    "version": 3
   },
   "file_extension": ".py",
   "mimetype": "text/x-python",
   "name": "python",
   "nbconvert_exporter": "python",
   "pygments_lexer": "ipython3",
   "version": "3.9.10"
  },
  "orig_nbformat": 4
 },
 "nbformat": 4,
 "nbformat_minor": 2
}
