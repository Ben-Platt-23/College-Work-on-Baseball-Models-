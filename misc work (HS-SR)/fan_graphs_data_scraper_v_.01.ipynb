{
 "cells": [
  {
   "cell_type": "code",
   "execution_count": 1,
   "metadata": {},
   "outputs": [],
   "source": [
    "from bs4 import BeautifulSoup\n",
    "import requests\n",
    "import pandas as pd\n",
    "import re"
   ]
  },
  {
   "cell_type": "code",
   "execution_count": 44,
   "metadata": {},
   "outputs": [],
   "source": [
    "urls = [\n",
    "    'https://www.fangraphs.com/leaders.aspx?pos=all&stats=bat&lg=all&qual=y&type=c,37,38,3,39&season=2021&month=0&season1=2021&ind=0&team=0&rost=0&age=0&filter=&players=0&startdate=&enddate='\n",
    "    'https://www.fangraphs.com/leaders.aspx?pos=all&stats=bat&lg=all&qual=y&type=c,37,38,3,39&season=2020&month=0&season1=2020&ind=0&team=0&rost=0&age=0&filter=&players=0&startdate=&enddate='\n",
    "    'https://www.fangraphs.com/leaders.aspx?pos=all&stats=bat&lg=all&qual=y&type=c,37,38,3,39&season=2019&month=0&season1=2019&ind=0&team=0&rost=0&age=0&filter=&players=0&startdate=2019-01-01&enddate=2019-12-31&sort=3,d'\n",
    "    'https://www.fangraphs.com/leaders.aspx?pos=all&stats=bat&lg=all&qual=y&type=c,37,38,3,39&season=2018&month=0&season1=2018&ind=0&team=0&rost=0&age=0&filter=&players=0&startdate=2018-01-01&enddate=2018-12-31&sort=3,d'\n",
    "    'https://www.fangraphs.com/leaders.aspx?pos=all&stats=bat&lg=all&qual=y&type=c,37,38,3,39&season=2017&month=0&season1=2017&ind=0&team=0&rost=0&age=0&filter=&players=0&startdate=2017-01-01&enddate=2017-12-31&sort=3,d'\n",
    "]"
   ]
  },
  {
   "cell_type": "code",
   "execution_count": 45,
   "metadata": {},
   "outputs": [],
   "source": [
    "def get_data(urls):\n",
    "    global response\n",
    "    response = []\n",
    "    for i in urls:\n",
    "        response.append(requests.get(i))"
   ]
  },
  {
   "cell_type": "code",
   "execution_count": 46,
   "metadata": {},
   "outputs": [],
   "source": [
    "get_data(urls)"
   ]
  },
  {
   "cell_type": "code",
   "execution_count": 47,
   "metadata": {},
   "outputs": [],
   "source": [
    "def make_soup(response_list):\n",
    "    soup = []\n",
    "    for i in response_list:\n",
    "        soup.append(BeautifulSoup(i.text, 'html.parser'))\n",
    "    return soup"
   ]
  },
  {
   "cell_type": "code",
   "execution_count": 48,
   "metadata": {},
   "outputs": [],
   "source": [
    "soups = make_soup(response)"
   ]
  },
  {
   "cell_type": "code",
   "execution_count": 49,
   "metadata": {},
   "outputs": [],
   "source": [
    "def extract_column(number, data, upper_limit, num_cols):\n",
    "    name = []\n",
    "    name_list = []\n",
    "    for i in range(0, upper_limit):\n",
    "        name.append(number + (i * num_cols))\n",
    "    for i in name:\n",
    "        name_list.append(data([i]))\n",
    "    return name_list"
   ]
  },
  {
   "cell_type": "code",
   "execution_count": 51,
   "metadata": {},
   "outputs": [],
   "source": [
    "def extract_basic_stats(soup_list, text_id, num_cols):\n",
    "    stat_list = []\n",
    "    for j in soup_list:\n",
    "        data_crude = j.find(text = text_id), j.findNext(), j.text.split(\"\\n\")\n",
    "        data_crude2 = []\n",
    "        for i in data_crude:\n",
    "            if i != '':\n",
    "                data_crude2.append(i)\n",
    "        data = data_crude2[:num_cols]\n",
    "        upper_bound = int(len(data) / num_cols)\n",
    "        age = extract_column(1, data, upper_bound, num_cols)\n",
    "        obp = extract_column(1, data, upper_bound, num_cols)\n",
    "        slg = extract_column(1, data, upper_bound, num_cols)\n",
    "        ops = extract_column(1, data, upper_bound, num_cols)\n",
    "        stat_data = pd.DataFrame(list(zip(age, obp, slg, ops)))\n",
    "        stat_list.append(stat_data)\n",
    "    stats = pd.concat(stat_list, ignore_index = True, axis = 0)\n",
    "    return stats\n",
    "\n"
   ]
  },
  {
   "cell_type": "code",
   "execution_count": 52,
   "metadata": {},
   "outputs": [],
   "source": [
    "final_data = extract_basic_stats(soups, \"Basic Stats\", 4)"
   ]
  },
  {
   "cell_type": "code",
   "execution_count": 53,
   "metadata": {},
   "outputs": [
    {
     "name": "stdout",
     "output_type": "stream",
     "text": [
      "Empty DataFrame\n",
      "Columns: []\n",
      "Index: []\n"
     ]
    }
   ],
   "source": [
    "print(final_data.head(6))"
   ]
  }
 ],
 "metadata": {
  "interpreter": {
   "hash": "b0fa6594d8f4cbf19f97940f81e996739fb7646882a419484c72d19e05852a7e"
  },
  "kernelspec": {
   "display_name": "Python 3.9.7 64-bit",
   "language": "python",
   "name": "python3"
  },
  "language_info": {
   "codemirror_mode": {
    "name": "ipython",
    "version": 3
   },
   "file_extension": ".py",
   "mimetype": "text/x-python",
   "name": "python",
   "nbconvert_exporter": "python",
   "pygments_lexer": "ipython3",
   "version": "3.9.10"
  },
  "orig_nbformat": 4
 },
 "nbformat": 4,
 "nbformat_minor": 2
}
