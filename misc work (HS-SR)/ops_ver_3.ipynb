{
 "cells": [
  {
   "cell_type": "code",
   "execution_count": 1,
   "metadata": {},
   "outputs": [],
   "source": [
    "#import numpy as np \n",
    "#import matplotlib as mpl\n",
    "import pandas as pd\n",
    "from IPython.display import display \n",
    "from sklearn.tree import DecisionTreeRegressor\n",
    "from sklearn.metrics import mean_absolute_error\n",
    "from sklearn.model_selection import train_test_split"
   ]
  },
  {
   "cell_type": "code",
   "execution_count": 2,
   "metadata": {},
   "outputs": [],
   "source": [
    "batting_stats = pd.read_csv('Fangraphs Leaderboard.csv')"
   ]
  },
  {
   "cell_type": "code",
   "execution_count": 3,
   "metadata": {},
   "outputs": [],
   "source": [
    "batting_stats = batting_stats.drop(columns=['Team', 'wOBA', 'wRC', 'wRC+', 'WPA', 'playerid'])"
   ]
  },
  {
   "cell_type": "code",
   "execution_count": 4,
   "metadata": {},
   "outputs": [
    {
     "data": {
      "text/plain": [
       "Index(['Season', 'Name', 'Age', 'G', 'PA', 'H', '2B', '3B', 'HR', 'R', 'RBI',\n",
       "       'BB', 'IBB', 'SO', 'HBP', 'SB', 'CS', 'AVG', 'BB/K', 'OBP', 'SLG',\n",
       "       'OPS', 'GB/FB', 'WAR'],\n",
       "      dtype='object')"
      ]
     },
     "execution_count": 4,
     "metadata": {},
     "output_type": "execute_result"
    }
   ],
   "source": [
    "batting_stats.columns"
   ]
  },
  {
   "cell_type": "code",
   "execution_count": 5,
   "metadata": {},
   "outputs": [
    {
     "name": "stderr",
     "output_type": "stream",
     "text": [
      "/var/folders/2j/rgdd494d7nj6ss812c9b9d6h0000gn/T/ipykernel_61612/3725050234.py:9: SettingWithCopyWarning: \n",
      "A value is trying to be set on a copy of a slice from a DataFrame\n",
      "\n",
      "See the caveats in the documentation: https://pandas.pydata.org/pandas-docs/stable/user_guide/indexing.html#returning-a-view-versus-a-copy\n",
      "  batting_stats.Name[counter] = counter\n"
     ]
    }
   ],
   "source": [
    "name_dict = {}\n",
    "\n",
    "def name_changer():\n",
    "    global counter \n",
    "    counter = 0\n",
    "\n",
    "    for name in batting_stats.Name:\n",
    "        name_dict[counter] = name\n",
    "        batting_stats.Name[counter] = counter\n",
    "        counter += 1\n",
    "\n",
    "name_changer()"
   ]
  },
  {
   "cell_type": "code",
   "execution_count": 9,
   "metadata": {},
   "outputs": [],
   "source": [
    "y = batting_stats.OPS"
   ]
  },
  {
   "cell_type": "code",
   "execution_count": 10,
   "metadata": {},
   "outputs": [],
   "source": [
    "batting_stats = batting_stats.astype(float)"
   ]
  },
  {
   "cell_type": "code",
   "execution_count": 11,
   "metadata": {},
   "outputs": [],
   "source": [
    "batting_stats_features = ['Season', 'Name', 'Age', 'G', 'PA', 'H', '2B', '3B', 'HR', 'R', 'RBI',\n",
    "       'BB', 'IBB', 'SO', 'HBP', 'SB', 'CS', 'AVG', 'BB/K', 'OBP', 'SLG',\n",
    "       'OPS', 'GB/FB', 'WAR']\n",
    "\n",
    "X = batting_stats[batting_stats_features]"
   ]
  },
  {
   "cell_type": "code",
   "execution_count": 14,
   "metadata": {},
   "outputs": [
    {
     "data": {
      "text/plain": [
       "DecisionTreeRegressor(random_state=1)"
      ]
     },
     "execution_count": 14,
     "metadata": {},
     "output_type": "execute_result"
    }
   ],
   "source": [
    "model = DecisionTreeRegressor(random_state=1)\n",
    "\n",
    "model.fit(X, y)"
   ]
  },
  {
   "cell_type": "code",
   "execution_count": null,
   "metadata": {},
   "outputs": [],
   "source": []
  }
 ],
 "metadata": {
  "interpreter": {
   "hash": "b0fa6594d8f4cbf19f97940f81e996739fb7646882a419484c72d19e05852a7e"
  },
  "kernelspec": {
   "display_name": "Python 3.9.10 64-bit",
   "language": "python",
   "name": "python3"
  },
  "language_info": {
   "codemirror_mode": {
    "name": "ipython",
    "version": 3
   },
   "file_extension": ".py",
   "mimetype": "text/x-python",
   "name": "python",
   "nbconvert_exporter": "python",
   "pygments_lexer": "ipython3",
   "version": "3.9.10"
  },
  "orig_nbformat": 4
 },
 "nbformat": 4,
 "nbformat_minor": 2
}
