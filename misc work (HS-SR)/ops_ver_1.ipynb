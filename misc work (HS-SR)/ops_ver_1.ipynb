{
 "cells": [
  {
   "cell_type": "code",
   "execution_count": null,
   "metadata": {},
   "outputs": [],
   "source": [
    "import numpy as np\n",
    "import matplotlib as mpl\n",
    "import pandas as pd\n",
    "from IPython.display import display\n",
    "from sklearn.tree import DecisionTreeRegressor\n",
    "from sklearn.metrics import mean_absolute_error\n",
    "from sklearn.model_selection import train_test_split\n"
   ]
  },
  {
   "cell_type": "code",
   "execution_count": null,
   "metadata": {},
   "outputs": [],
   "source": [
    "data = pd.read_csv('FanGraphs Leaderboard.csv')\n",
    "#data = data.drop(columns=['Name', 'Season', 'Team', 'wOBA', 'wRC', 'wRC+', 'WPA', 'playerid'])\n",
    "#data.columns"
   ]
  },
  {
   "cell_type": "code",
   "execution_count": null,
   "metadata": {},
   "outputs": [],
   "source": [
    "#Used for swapping names into integer values so the \"html.parser\" doesn't freak out\n",
    "#Might not be needed given i am going to try and use \"lxml#\"\n",
    "\n",
    "\n",
    "counter  = 0\n",
    "data_dict = {}\n",
    "\n",
    "# Goes through the names in data\n",
    "for name in data.Name:\n",
    "    # In the dictionary i created it goes to an index equal to the current value of the counter and sets it equal to the name\n",
    "    data_dict[counter] = name\n",
    "    # Adds 1 to the counter\n",
    "    counter += 1\n",
    "    # Changes the \"name\" in data to the value of counter becuase the basic \"html.parser\" cant read all numbers, percentages and strings\n",
    "    data.Name[counter] = counter"
   ]
  },
  {
   "cell_type": "code",
   "execution_count": null,
   "metadata": {},
   "outputs": [],
   "source": [
    "# Setting the variable y = prediction target\n",
    "y = data.OPS"
   ]
  },
  {
   "cell_type": "code",
   "execution_count": null,
   "metadata": {},
   "outputs": [],
   "source": [
    "data = data.astype(float)"
   ]
  },
  {
   "cell_type": "code",
   "execution_count": null,
   "metadata": {},
   "outputs": [],
   "source": [
    "data_features = ['G', 'PA', 'H', '2B', '3B', 'HR', 'R', 'RBI', 'BB',\n",
    "       'IBB', 'SO', 'HBP', 'SB', 'CS', 'AVG', 'BB/K', 'OBP', 'SLG', 'OPS',\n",
    "       'GB/FB', 'WAR']\n",
    "\n",
    "X = data[data_features]"
   ]
  },
  {
   "cell_type": "code",
   "execution_count": null,
   "metadata": {},
   "outputs": [],
   "source": [
    "display(data)"
   ]
  },
  {
   "cell_type": "code",
   "execution_count": null,
   "metadata": {},
   "outputs": [],
   "source": [
    "# Defining the model\n",
    "data_model = DecisionTreeRegressor(random_state=1)\n",
    "\n",
    "# Fitting the model\n",
    "data_model.fit(X, y)"
   ]
  },
  {
   "cell_type": "code",
   "execution_count": null,
   "metadata": {},
   "outputs": [],
   "source": [
    "print('Making predictions for the first 25 players:')\n",
    "print(X.OPS.head(25))\n",
    "print('The predictions are')\n",
    "print(data_model.predict(X.head(25)))"
   ]
  },
  {
   "cell_type": "code",
   "execution_count": null,
   "metadata": {},
   "outputs": [],
   "source": [
    "predicted_ops = data_model.predict(X)\n",
    "mean_absolute_error(y, predicted_ops)"
   ]
  },
  {
   "cell_type": "code",
   "execution_count": null,
   "metadata": {},
   "outputs": [],
   "source": [
    "train_X, val_X, train_y, val_y = train_test_split(X, y, random_state=0)\n",
    "data_model2 = DecisionTreeRegressor(max_leaf_nodes=5000)\n",
    "data_model2.fit(train_X, train_y)"
   ]
  },
  {
   "cell_type": "code",
   "execution_count": null,
   "metadata": {},
   "outputs": [],
   "source": [
    "val_predictions = data_model2.predict(val_X)\n",
    "print(mean_absolute_error(val_y, val_predictions))"
   ]
  },
  {
   "cell_type": "code",
   "execution_count": null,
   "metadata": {},
   "outputs": [],
   "source": [
    "def get_mae(max_leaf_nodes, train_X, val_X, train_y, val_y):\n",
    "    model = DecisionTreeRegressor(max_leaf_nodes=max_leaf_nodes, random_state=0)\n",
    "    model.fit(train_X, train_y)\n",
    "    preds_val = model.predict(val_X)\n",
    "    mae = mean_absolute_error(val_y, preds_val)\n",
    "    return(mae)\n",
    "\n",
    "\n",
    "for max_leaf_nodes in [5, 50, 500, 5000]:\n",
    "    my_mae = get_mae(max_leaf_nodes, train_X, val_X, train_y, val_y)\n",
    "    print(max_leaf_nodes, my_mae)"
   ]
  },
  {
   "cell_type": "code",
   "execution_count": null,
   "metadata": {},
   "outputs": [],
   "source": []
  },
  {
   "cell_type": "code",
   "execution_count": null,
   "metadata": {},
   "outputs": [],
   "source": []
  }
 ],
 "metadata": {
  "interpreter": {
   "hash": "4310f5e91deb4b765dcf7f17d2a7e0b1645dd0bc8146c187437ee14ab0ff3df0"
  },
  "kernelspec": {
   "display_name": "Python 3.10.2 64-bit",
   "language": "python",
   "name": "python3"
  },
  "language_info": {
   "codemirror_mode": {
    "name": "ipython",
    "version": 3
   },
   "file_extension": ".py",
   "mimetype": "text/x-python",
   "name": "python",
   "nbconvert_exporter": "python",
   "pygments_lexer": "ipython3",
   "version": "3.9.10"
  },
  "orig_nbformat": 4
 },
 "nbformat": 4,
 "nbformat_minor": 2
}
