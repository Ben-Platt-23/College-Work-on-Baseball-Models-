{
 "cells": [
  {
   "cell_type": "code",
   "execution_count": 1,
   "metadata": {},
   "outputs": [],
   "source": [
    "import pandas as pd\n",
    "pd.set_option('display.max_columns', None)"
   ]
  },
  {
   "cell_type": "code",
   "execution_count": 2,
   "metadata": {},
   "outputs": [],
   "source": [
    "df = pd.read_csv('data.csv')"
   ]
  },
  {
   "cell_type": "code",
   "execution_count": 3,
   "metadata": {},
   "outputs": [
    {
     "data": {
      "text/html": [
       "<div>\n",
       "<style scoped>\n",
       "    .dataframe tbody tr th:only-of-type {\n",
       "        vertical-align: middle;\n",
       "    }\n",
       "\n",
       "    .dataframe tbody tr th {\n",
       "        vertical-align: top;\n",
       "    }\n",
       "\n",
       "    .dataframe thead th {\n",
       "        text-align: right;\n",
       "    }\n",
       "</style>\n",
       "<table border=\"1\" class=\"dataframe\">\n",
       "  <thead>\n",
       "    <tr style=\"text-align: right;\">\n",
       "      <th></th>\n",
       "      <th>Season</th>\n",
       "      <th>Name</th>\n",
       "      <th>Team</th>\n",
       "      <th>G</th>\n",
       "      <th>PA</th>\n",
       "      <th>HR</th>\n",
       "      <th>R</th>\n",
       "      <th>RBI</th>\n",
       "      <th>SB</th>\n",
       "      <th>BB%</th>\n",
       "      <th>BB</th>\n",
       "      <th>K%</th>\n",
       "      <th>SO</th>\n",
       "      <th>ISO</th>\n",
       "      <th>BABIP</th>\n",
       "      <th>AVG</th>\n",
       "      <th>OBP</th>\n",
       "      <th>SLG</th>\n",
       "      <th>OPS</th>\n",
       "      <th>wOBA</th>\n",
       "      <th>wRC+</th>\n",
       "      <th>BsR</th>\n",
       "      <th>HardHit%</th>\n",
       "      <th>Barrel%</th>\n",
       "      <th>LA</th>\n",
       "      <th>Pull%+</th>\n",
       "      <th>Cent%+</th>\n",
       "      <th>Oppo%+</th>\n",
       "      <th>Soft%+</th>\n",
       "      <th>Med%+</th>\n",
       "      <th>Hard%+</th>\n",
       "      <th>GB%+</th>\n",
       "      <th>FB%+</th>\n",
       "      <th>LD+%</th>\n",
       "      <th>playerid</th>\n",
       "    </tr>\n",
       "  </thead>\n",
       "  <tbody>\n",
       "    <tr>\n",
       "      <th>0</th>\n",
       "      <td>2015</td>\n",
       "      <td>Bryce Harper</td>\n",
       "      <td>WSN</td>\n",
       "      <td>153</td>\n",
       "      <td>654</td>\n",
       "      <td>42</td>\n",
       "      <td>118</td>\n",
       "      <td>99</td>\n",
       "      <td>6</td>\n",
       "      <td>19.0%</td>\n",
       "      <td>124</td>\n",
       "      <td>20.0%</td>\n",
       "      <td>131</td>\n",
       "      <td>0.319</td>\n",
       "      <td>0.369</td>\n",
       "      <td>0.330</td>\n",
       "      <td>0.460</td>\n",
       "      <td>0.649</td>\n",
       "      <td>1.109</td>\n",
       "      <td>0.461</td>\n",
       "      <td>197</td>\n",
       "      <td>3.6</td>\n",
       "      <td>47.7%</td>\n",
       "      <td>12.2%</td>\n",
       "      <td>14.6</td>\n",
       "      <td>119</td>\n",
       "      <td>95</td>\n",
       "      <td>79</td>\n",
       "      <td>66</td>\n",
       "      <td>91</td>\n",
       "      <td>137</td>\n",
       "      <td>85</td>\n",
       "      <td>119</td>\n",
       "      <td>104</td>\n",
       "      <td>11579</td>\n",
       "    </tr>\n",
       "    <tr>\n",
       "      <th>1</th>\n",
       "      <td>2018</td>\n",
       "      <td>Mookie Betts</td>\n",
       "      <td>BOS</td>\n",
       "      <td>136</td>\n",
       "      <td>614</td>\n",
       "      <td>32</td>\n",
       "      <td>129</td>\n",
       "      <td>80</td>\n",
       "      <td>30</td>\n",
       "      <td>13.2%</td>\n",
       "      <td>81</td>\n",
       "      <td>14.8%</td>\n",
       "      <td>91</td>\n",
       "      <td>0.294</td>\n",
       "      <td>0.368</td>\n",
       "      <td>0.346</td>\n",
       "      <td>0.438</td>\n",
       "      <td>0.640</td>\n",
       "      <td>1.078</td>\n",
       "      <td>0.449</td>\n",
       "      <td>185</td>\n",
       "      <td>6.9</td>\n",
       "      <td>50.0%</td>\n",
       "      <td>13.1%</td>\n",
       "      <td>18.5</td>\n",
       "      <td>115</td>\n",
       "      <td>102</td>\n",
       "      <td>73</td>\n",
       "      <td>69</td>\n",
       "      <td>92</td>\n",
       "      <td>125</td>\n",
       "      <td>80</td>\n",
       "      <td>123</td>\n",
       "      <td>100</td>\n",
       "      <td>13611</td>\n",
       "    </tr>\n",
       "    <tr>\n",
       "      <th>2</th>\n",
       "      <td>2018</td>\n",
       "      <td>Mike Trout</td>\n",
       "      <td>LAA</td>\n",
       "      <td>140</td>\n",
       "      <td>608</td>\n",
       "      <td>39</td>\n",
       "      <td>101</td>\n",
       "      <td>79</td>\n",
       "      <td>24</td>\n",
       "      <td>20.1%</td>\n",
       "      <td>122</td>\n",
       "      <td>20.4%</td>\n",
       "      <td>124</td>\n",
       "      <td>0.316</td>\n",
       "      <td>0.346</td>\n",
       "      <td>0.312</td>\n",
       "      <td>0.460</td>\n",
       "      <td>0.628</td>\n",
       "      <td>1.088</td>\n",
       "      <td>0.447</td>\n",
       "      <td>188</td>\n",
       "      <td>5.0</td>\n",
       "      <td>46.0%</td>\n",
       "      <td>15.3%</td>\n",
       "      <td>18.6</td>\n",
       "      <td>98</td>\n",
       "      <td>109</td>\n",
       "      <td>91</td>\n",
       "      <td>91</td>\n",
       "      <td>84</td>\n",
       "      <td>125</td>\n",
       "      <td>74</td>\n",
       "      <td>124</td>\n",
       "      <td>110</td>\n",
       "      <td>10155</td>\n",
       "    </tr>\n",
       "    <tr>\n",
       "      <th>3</th>\n",
       "      <td>2017</td>\n",
       "      <td>Mike Trout</td>\n",
       "      <td>LAA</td>\n",
       "      <td>114</td>\n",
       "      <td>507</td>\n",
       "      <td>33</td>\n",
       "      <td>92</td>\n",
       "      <td>72</td>\n",
       "      <td>22</td>\n",
       "      <td>18.5%</td>\n",
       "      <td>94</td>\n",
       "      <td>17.8%</td>\n",
       "      <td>90</td>\n",
       "      <td>0.323</td>\n",
       "      <td>0.318</td>\n",
       "      <td>0.306</td>\n",
       "      <td>0.442</td>\n",
       "      <td>0.629</td>\n",
       "      <td>1.071</td>\n",
       "      <td>0.437</td>\n",
       "      <td>180</td>\n",
       "      <td>4.0</td>\n",
       "      <td>40.5%</td>\n",
       "      <td>12.0%</td>\n",
       "      <td>18.0</td>\n",
       "      <td>99</td>\n",
       "      <td>103</td>\n",
       "      <td>97</td>\n",
       "      <td>103</td>\n",
       "      <td>87</td>\n",
       "      <td>119</td>\n",
       "      <td>85</td>\n",
       "      <td>123</td>\n",
       "      <td>90</td>\n",
       "      <td>10155</td>\n",
       "    </tr>\n",
       "    <tr>\n",
       "      <th>4</th>\n",
       "      <td>2017</td>\n",
       "      <td>Aaron Judge</td>\n",
       "      <td>NYY</td>\n",
       "      <td>155</td>\n",
       "      <td>678</td>\n",
       "      <td>52</td>\n",
       "      <td>128</td>\n",
       "      <td>114</td>\n",
       "      <td>9</td>\n",
       "      <td>18.7%</td>\n",
       "      <td>127</td>\n",
       "      <td>30.7%</td>\n",
       "      <td>208</td>\n",
       "      <td>0.343</td>\n",
       "      <td>0.357</td>\n",
       "      <td>0.284</td>\n",
       "      <td>0.422</td>\n",
       "      <td>0.627</td>\n",
       "      <td>1.049</td>\n",
       "      <td>0.430</td>\n",
       "      <td>174</td>\n",
       "      <td>0.0</td>\n",
       "      <td>55.0%</td>\n",
       "      <td>24.9%</td>\n",
       "      <td>15.8</td>\n",
       "      <td>102</td>\n",
       "      <td>89</td>\n",
       "      <td>112</td>\n",
       "      <td>61</td>\n",
       "      <td>88</td>\n",
       "      <td>140</td>\n",
       "      <td>81</td>\n",
       "      <td>119</td>\n",
       "      <td>108</td>\n",
       "      <td>15640</td>\n",
       "    </tr>\n",
       "  </tbody>\n",
       "</table>\n",
       "</div>"
      ],
      "text/plain": [
       "   Season          Name Team    G   PA  HR    R  RBI  SB    BB%   BB     K%  \\\n",
       "0    2015  Bryce Harper  WSN  153  654  42  118   99   6  19.0%  124  20.0%   \n",
       "1    2018  Mookie Betts  BOS  136  614  32  129   80  30  13.2%   81  14.8%   \n",
       "2    2018    Mike Trout  LAA  140  608  39  101   79  24  20.1%  122  20.4%   \n",
       "3    2017    Mike Trout  LAA  114  507  33   92   72  22  18.5%   94  17.8%   \n",
       "4    2017   Aaron Judge  NYY  155  678  52  128  114   9  18.7%  127  30.7%   \n",
       "\n",
       "    SO    ISO  BABIP    AVG    OBP    SLG    OPS   wOBA  wRC+  BsR HardHit%  \\\n",
       "0  131  0.319  0.369  0.330  0.460  0.649  1.109  0.461   197  3.6    47.7%   \n",
       "1   91  0.294  0.368  0.346  0.438  0.640  1.078  0.449   185  6.9    50.0%   \n",
       "2  124  0.316  0.346  0.312  0.460  0.628  1.088  0.447   188  5.0    46.0%   \n",
       "3   90  0.323  0.318  0.306  0.442  0.629  1.071  0.437   180  4.0    40.5%   \n",
       "4  208  0.343  0.357  0.284  0.422  0.627  1.049  0.430   174  0.0    55.0%   \n",
       "\n",
       "  Barrel%    LA  Pull%+  Cent%+  Oppo%+  Soft%+  Med%+  Hard%+  GB%+  FB%+  \\\n",
       "0   12.2%  14.6     119      95      79      66     91     137    85   119   \n",
       "1   13.1%  18.5     115     102      73      69     92     125    80   123   \n",
       "2   15.3%  18.6      98     109      91      91     84     125    74   124   \n",
       "3   12.0%  18.0      99     103      97     103     87     119    85   123   \n",
       "4   24.9%  15.8     102      89     112      61     88     140    81   119   \n",
       "\n",
       "   LD+%  playerid  \n",
       "0   104     11579  \n",
       "1   100     13611  \n",
       "2   110     10155  \n",
       "3    90     10155  \n",
       "4   108     15640  "
      ]
     },
     "execution_count": 3,
     "metadata": {},
     "output_type": "execute_result"
    }
   ],
   "source": [
    "df.head()"
   ]
  },
  {
   "cell_type": "code",
   "execution_count": 7,
   "metadata": {},
   "outputs": [
    {
     "ename": "AttributeError",
     "evalue": "Can only use .str accessor with string values!",
     "output_type": "error",
     "traceback": [
      "\u001b[0;31m---------------------------------------------------------------------------\u001b[0m",
      "\u001b[0;31mAttributeError\u001b[0m                            Traceback (most recent call last)",
      "\u001b[1;32m/Users/benplatt/Desktop/programming/github_repositories/College-Work-on-Baseball-Models-/Models (Senior Project)/model_v3.ipynb Cell 4\u001b[0m line \u001b[0;36m7\n\u001b[1;32m      <a href='vscode-notebook-cell:/Users/benplatt/Desktop/programming/github_repositories/College-Work-on-Baseball-Models-/Models%20%28Senior%20Project%29/model_v3.ipynb#W3sZmlsZQ%3D%3D?line=4'>5</a>\u001b[0m df[\u001b[39m'\u001b[39m\u001b[39mCent\u001b[39m\u001b[39m%\u001b[39m\u001b[39m+\u001b[39m\u001b[39m'\u001b[39m] \u001b[39m=\u001b[39m df[\u001b[39m'\u001b[39m\u001b[39mCent\u001b[39m\u001b[39m%\u001b[39m\u001b[39m+\u001b[39m\u001b[39m'\u001b[39m]\u001b[39m.\u001b[39mapply(\u001b[39mlambda\u001b[39;00m x: \u001b[39mstr\u001b[39m(x)\u001b[39m.\u001b[39mreplace(\u001b[39m'\u001b[39m\u001b[39m%\u001b[39m\u001b[39m'\u001b[39m, \u001b[39m'\u001b[39m\u001b[39m'\u001b[39m) \u001b[39mif\u001b[39;00m \u001b[39misinstance\u001b[39m(x, \u001b[39mstr\u001b[39m) \u001b[39melse\u001b[39;00m x)\n\u001b[1;32m      <a href='vscode-notebook-cell:/Users/benplatt/Desktop/programming/github_repositories/College-Work-on-Baseball-Models-/Models%20%28Senior%20Project%29/model_v3.ipynb#W3sZmlsZQ%3D%3D?line=5'>6</a>\u001b[0m df[\u001b[39m'\u001b[39m\u001b[39mPull\u001b[39m\u001b[39m%\u001b[39m\u001b[39m+\u001b[39m\u001b[39m'\u001b[39m] \u001b[39m=\u001b[39m df[\u001b[39m'\u001b[39m\u001b[39mPull\u001b[39m\u001b[39m%\u001b[39m\u001b[39m+\u001b[39m\u001b[39m'\u001b[39m]\u001b[39m.\u001b[39mapply(\u001b[39mlambda\u001b[39;00m x: \u001b[39mstr\u001b[39m(x)\u001b[39m.\u001b[39mreplace(\u001b[39m'\u001b[39m\u001b[39m%\u001b[39m\u001b[39m'\u001b[39m, \u001b[39m'\u001b[39m\u001b[39m'\u001b[39m) \u001b[39mif\u001b[39;00m \u001b[39misinstance\u001b[39m(x, \u001b[39mstr\u001b[39m) \u001b[39melse\u001b[39;00m x)\n\u001b[0;32m----> <a href='vscode-notebook-cell:/Users/benplatt/Desktop/programming/github_repositories/College-Work-on-Baseball-Models-/Models%20%28Senior%20Project%29/model_v3.ipynb#W3sZmlsZQ%3D%3D?line=6'>7</a>\u001b[0m df[\u001b[39m'\u001b[39m\u001b[39mOppo\u001b[39m\u001b[39m%\u001b[39m\u001b[39m+\u001b[39m\u001b[39m'\u001b[39m] \u001b[39m=\u001b[39m df[\u001b[39m'\u001b[39;49m\u001b[39mOppo\u001b[39;49m\u001b[39m%\u001b[39;49m\u001b[39m+\u001b[39;49m\u001b[39m'\u001b[39;49m]\u001b[39m.\u001b[39;49mstr\u001b[39m.\u001b[39mreplace(\u001b[39m'\u001b[39m\u001b[39m%\u001b[39m\u001b[39m'\u001b[39m, \u001b[39m'\u001b[39m\u001b[39m'\u001b[39m)\n\u001b[1;32m      <a href='vscode-notebook-cell:/Users/benplatt/Desktop/programming/github_repositories/College-Work-on-Baseball-Models-/Models%20%28Senior%20Project%29/model_v3.ipynb#W3sZmlsZQ%3D%3D?line=7'>8</a>\u001b[0m df[\u001b[39m'\u001b[39m\u001b[39mSoft\u001b[39m\u001b[39m%\u001b[39m\u001b[39m+\u001b[39m\u001b[39m'\u001b[39m] \u001b[39m=\u001b[39m df[\u001b[39m'\u001b[39m\u001b[39mSoft\u001b[39m\u001b[39m%\u001b[39m\u001b[39m+\u001b[39m\u001b[39m'\u001b[39m]\u001b[39m.\u001b[39mstr\u001b[39m.\u001b[39mreplace(\u001b[39m'\u001b[39m\u001b[39m%\u001b[39m\u001b[39m'\u001b[39m, \u001b[39m'\u001b[39m\u001b[39m'\u001b[39m)\n\u001b[1;32m      <a href='vscode-notebook-cell:/Users/benplatt/Desktop/programming/github_repositories/College-Work-on-Baseball-Models-/Models%20%28Senior%20Project%29/model_v3.ipynb#W3sZmlsZQ%3D%3D?line=8'>9</a>\u001b[0m df[\u001b[39m'\u001b[39m\u001b[39mMed\u001b[39m\u001b[39m%\u001b[39m\u001b[39m'\u001b[39m] \u001b[39m=\u001b[39m df[\u001b[39m'\u001b[39m\u001b[39mMed\u001b[39m\u001b[39m%\u001b[39m\u001b[39m'\u001b[39m]\u001b[39m.\u001b[39mstr\u001b[39m.\u001b[39mreplace(\u001b[39m'\u001b[39m\u001b[39m%\u001b[39m\u001b[39m'\u001b[39m, \u001b[39m'\u001b[39m\u001b[39m'\u001b[39m)\n",
      "File \u001b[0;32m/Library/Frameworks/Python.framework/Versions/3.10/lib/python3.10/site-packages/pandas/core/generic.py:5902\u001b[0m, in \u001b[0;36mNDFrame.__getattr__\u001b[0;34m(self, name)\u001b[0m\n\u001b[1;32m   5895\u001b[0m \u001b[39mif\u001b[39;00m (\n\u001b[1;32m   5896\u001b[0m     name \u001b[39mnot\u001b[39;00m \u001b[39min\u001b[39;00m \u001b[39mself\u001b[39m\u001b[39m.\u001b[39m_internal_names_set\n\u001b[1;32m   5897\u001b[0m     \u001b[39mand\u001b[39;00m name \u001b[39mnot\u001b[39;00m \u001b[39min\u001b[39;00m \u001b[39mself\u001b[39m\u001b[39m.\u001b[39m_metadata\n\u001b[1;32m   5898\u001b[0m     \u001b[39mand\u001b[39;00m name \u001b[39mnot\u001b[39;00m \u001b[39min\u001b[39;00m \u001b[39mself\u001b[39m\u001b[39m.\u001b[39m_accessors\n\u001b[1;32m   5899\u001b[0m     \u001b[39mand\u001b[39;00m \u001b[39mself\u001b[39m\u001b[39m.\u001b[39m_info_axis\u001b[39m.\u001b[39m_can_hold_identifiers_and_holds_name(name)\n\u001b[1;32m   5900\u001b[0m ):\n\u001b[1;32m   5901\u001b[0m     \u001b[39mreturn\u001b[39;00m \u001b[39mself\u001b[39m[name]\n\u001b[0;32m-> 5902\u001b[0m \u001b[39mreturn\u001b[39;00m \u001b[39mobject\u001b[39;49m\u001b[39m.\u001b[39;49m\u001b[39m__getattribute__\u001b[39;49m(\u001b[39mself\u001b[39;49m, name)\n",
      "File \u001b[0;32m/Library/Frameworks/Python.framework/Versions/3.10/lib/python3.10/site-packages/pandas/core/accessor.py:182\u001b[0m, in \u001b[0;36mCachedAccessor.__get__\u001b[0;34m(self, obj, cls)\u001b[0m\n\u001b[1;32m    179\u001b[0m \u001b[39mif\u001b[39;00m obj \u001b[39mis\u001b[39;00m \u001b[39mNone\u001b[39;00m:\n\u001b[1;32m    180\u001b[0m     \u001b[39m# we're accessing the attribute of the class, i.e., Dataset.geo\u001b[39;00m\n\u001b[1;32m    181\u001b[0m     \u001b[39mreturn\u001b[39;00m \u001b[39mself\u001b[39m\u001b[39m.\u001b[39m_accessor\n\u001b[0;32m--> 182\u001b[0m accessor_obj \u001b[39m=\u001b[39m \u001b[39mself\u001b[39;49m\u001b[39m.\u001b[39;49m_accessor(obj)\n\u001b[1;32m    183\u001b[0m \u001b[39m# Replace the property with the accessor object. Inspired by:\u001b[39;00m\n\u001b[1;32m    184\u001b[0m \u001b[39m# https://www.pydanny.com/cached-property.html\u001b[39;00m\n\u001b[1;32m    185\u001b[0m \u001b[39m# We need to use object.__setattr__ because we overwrite __setattr__ on\u001b[39;00m\n\u001b[1;32m    186\u001b[0m \u001b[39m# NDFrame\u001b[39;00m\n\u001b[1;32m    187\u001b[0m \u001b[39mobject\u001b[39m\u001b[39m.\u001b[39m\u001b[39m__setattr__\u001b[39m(obj, \u001b[39mself\u001b[39m\u001b[39m.\u001b[39m_name, accessor_obj)\n",
      "File \u001b[0;32m/Library/Frameworks/Python.framework/Versions/3.10/lib/python3.10/site-packages/pandas/core/strings/accessor.py:181\u001b[0m, in \u001b[0;36mStringMethods.__init__\u001b[0;34m(self, data)\u001b[0m\n\u001b[1;32m    178\u001b[0m \u001b[39mdef\u001b[39;00m \u001b[39m__init__\u001b[39m(\u001b[39mself\u001b[39m, data) \u001b[39m-\u001b[39m\u001b[39m>\u001b[39m \u001b[39mNone\u001b[39;00m:\n\u001b[1;32m    179\u001b[0m     \u001b[39mfrom\u001b[39;00m \u001b[39mpandas\u001b[39;00m\u001b[39m.\u001b[39;00m\u001b[39mcore\u001b[39;00m\u001b[39m.\u001b[39;00m\u001b[39marrays\u001b[39;00m\u001b[39m.\u001b[39;00m\u001b[39mstring_\u001b[39;00m \u001b[39mimport\u001b[39;00m StringDtype\n\u001b[0;32m--> 181\u001b[0m     \u001b[39mself\u001b[39m\u001b[39m.\u001b[39m_inferred_dtype \u001b[39m=\u001b[39m \u001b[39mself\u001b[39;49m\u001b[39m.\u001b[39;49m_validate(data)\n\u001b[1;32m    182\u001b[0m     \u001b[39mself\u001b[39m\u001b[39m.\u001b[39m_is_categorical \u001b[39m=\u001b[39m is_categorical_dtype(data\u001b[39m.\u001b[39mdtype)\n\u001b[1;32m    183\u001b[0m     \u001b[39mself\u001b[39m\u001b[39m.\u001b[39m_is_string \u001b[39m=\u001b[39m \u001b[39misinstance\u001b[39m(data\u001b[39m.\u001b[39mdtype, StringDtype)\n",
      "File \u001b[0;32m/Library/Frameworks/Python.framework/Versions/3.10/lib/python3.10/site-packages/pandas/core/strings/accessor.py:235\u001b[0m, in \u001b[0;36mStringMethods._validate\u001b[0;34m(data)\u001b[0m\n\u001b[1;32m    232\u001b[0m inferred_dtype \u001b[39m=\u001b[39m lib\u001b[39m.\u001b[39minfer_dtype(values, skipna\u001b[39m=\u001b[39m\u001b[39mTrue\u001b[39;00m)\n\u001b[1;32m    234\u001b[0m \u001b[39mif\u001b[39;00m inferred_dtype \u001b[39mnot\u001b[39;00m \u001b[39min\u001b[39;00m allowed_types:\n\u001b[0;32m--> 235\u001b[0m     \u001b[39mraise\u001b[39;00m \u001b[39mAttributeError\u001b[39;00m(\u001b[39m\"\u001b[39m\u001b[39mCan only use .str accessor with string values!\u001b[39m\u001b[39m\"\u001b[39m)\n\u001b[1;32m    236\u001b[0m \u001b[39mreturn\u001b[39;00m inferred_dtype\n",
      "\u001b[0;31mAttributeError\u001b[0m: Can only use .str accessor with string values!"
     ]
    }
   ],
   "source": [
    "df['BB%'] = df['BB%'].str.replace('%', '')\n",
    "df['K%'] = df['K%'].str.replace('%', '')\n",
    "df['HardHit%'] = df['HardHit%'].str.replace('%', '')\n",
    "df['Barrel%'] = df['Barrel%'].str.replace('%', '')\n",
    "df['Cent%+'] = df['Cent%+'].apply(lambda x: str(x).replace('%', '') if isinstance(x, str) else x)\n",
    "df['Pull%+'] = df['Pull%+'].apply(lambda x: str(x).replace('%', '') if isinstance(x, str) else x)\n",
    "df['Oppo%+'] = df['Oppo%+'].str.replace('%', '')\n",
    "df['Soft%+'] = df['Soft%+'].str.replace('%', '')\n",
    "df['Med%'] = df['Med%'].str.replace('%', '')\n",
    "df['Hard%+'] = df['Hard%+'].str.replace('%', '')\n",
    "df['GB%+'] = df['GB%+'].str.replace('%', '')\n",
    "df['FB%+'] = df['FB%+'].str.replace('%', '')\n",
    "df['LD+%'] = df['LD+%'].str.replace('%', '')"
   ]
  },
  {
   "cell_type": "code",
   "execution_count": null,
   "metadata": {},
   "outputs": [],
   "source": [
    "df.head(1)"
   ]
  },
  {
   "cell_type": "code",
   "execution_count": null,
   "metadata": {},
   "outputs": [],
   "source": [
    "df.columns"
   ]
  },
  {
   "cell_type": "code",
   "execution_count": null,
   "metadata": {},
   "outputs": [],
   "source": [
    "def assign_hr_bins(hrs):\n",
    "    if hrs < 1:\n",
    "        return 0\n",
    "    if hrs >= 10 and hrs <= 19:\n",
    "        return 1 \n",
    "    if hrs >= 20 and hrs <= 29:\n",
    "        return 2\n",
    "    if hrs >= 30 and hrs <= 39:\n",
    "        return 3\n",
    "    if hrs >= 40 and hrs <= 49:\n",
    "        return 4\n",
    "    if hrs >= 50 and hrs <= 59:\n",
    "        return 5\n",
    "    if hrs >= 60 and hrs <- 69:\n",
    "        return 6\n",
    "\n",
    "df['hr_bins'] = df['HR'].apply(assign_hr_bins)"
   ]
  },
  {
   "cell_type": "code",
   "execution_count": null,
   "metadata": {},
   "outputs": [],
   "source": [
    "df.head(1)"
   ]
  },
  {
   "cell_type": "code",
   "execution_count": null,
   "metadata": {},
   "outputs": [],
   "source": [
    "len(df)"
   ]
  },
  {
   "cell_type": "code",
   "execution_count": null,
   "metadata": {},
   "outputs": [],
   "source": [
    "import seaborn as sns\n",
    "import matplotlib.pyplot as plt"
   ]
  },
  {
   "cell_type": "code",
   "execution_count": null,
   "metadata": {},
   "outputs": [],
   "source": [
    "flatui = [\"#6cdae7\", \"#fd3a4a\", \"#ffaa1d\", \"#ff23e5\", \"#34495e\", \"#2ecc71\"]\n",
    "sns.set_palette(flatui)\n",
    "sns.palplot(sns.color_palette())"
   ]
  },
  {
   "cell_type": "code",
   "execution_count": null,
   "metadata": {},
   "outputs": [],
   "source": [
    "df = df.rename(columns={'BB%':'BB', 'K%':'K', 'wRC+':'wRCp', 'HardHit%':'HardHit', 'Barrel%':'Barrel', 'Pull%+':'Pull', 'Cent%+':'Cent', 'Oppo%+':'Oppo', 'Soft%+':'Soft', 'Med%+':'Med', 'Hard%+':'Hard', 'GB%+':'GB', 'FG%+':'FB', 'LD+%':'LD'})"
   ]
  },
  {
   "cell_type": "code",
   "execution_count": null,
   "metadata": {},
   "outputs": [],
   "source": [
    "df.columns"
   ]
  },
  {
   "cell_type": "code",
   "execution_count": null,
   "metadata": {},
   "outputs": [],
   "source": [
    "sns.lmplot(x = 'OPS', y = 'BB%', fit_reg = False, hue = 'hr_bins', data = df, height = 7, aspect = 1.25)\n",
    "plt.xlabel('OPS', fontsize = 20)\n",
    "plt.ylabel('BB%', fontsize = 20)\n",
    "#plt.axvline(99, 0, 1, color = 'Black', ls = '--')\n",
    "plt.show()"
   ]
  },
  {
   "cell_type": "code",
   "execution_count": null,
   "metadata": {},
   "outputs": [],
   "source": [
    "import numpy as np"
   ]
  },
  {
   "cell_type": "code",
   "execution_count": null,
   "metadata": {},
   "outputs": [],
   "source": [
    "corrcheck = df[['OPS', 'OBP', 'hr_bins']].copy()\n",
    "g = sns.pairplot(corrcheck, hue = 'hr_bins', vars = ['OPS', 'OBP'])\n",
    "g.fig.set_size_inches(14, 10)"
   ]
  },
  {
   "cell_type": "code",
   "execution_count": null,
   "metadata": {},
   "outputs": [],
   "source": [
    "corrcheck.corr(method='pearson')"
   ]
  },
  {
   "cell_type": "code",
   "execution_count": null,
   "metadata": {},
   "outputs": [],
   "source": [
    "from sklearn.feature_selection import SelectKBest\n",
    "from sklearn.feature_selection import chi2"
   ]
  },
  {
   "cell_type": "code",
   "execution_count": null,
   "metadata": {},
   "outputs": [],
   "source": [
    "test = df.dropna()"
   ]
  },
  {
   "cell_type": "code",
   "execution_count": null,
   "metadata": {},
   "outputs": [],
   "source": [
    "test.columns"
   ]
  },
  {
   "cell_type": "code",
   "execution_count": null,
   "metadata": {},
   "outputs": [],
   "source": [
    "test = test.astype('str')"
   ]
  },
  {
   "cell_type": "code",
   "execution_count": null,
   "metadata": {},
   "outputs": [],
   "source": [
    "x = test.iloc[:, 16:18]\n",
    "y = test.iloc[:, -18]\n",
    "\n",
    "bestfeatures = SelectKBest(score_func=chi2, k=2)\n",
    "fit = bestfeatures.fit(x, y)\n",
    "\n",
    "dfscores = pd.DataFrame(fit.scores_)\n",
    "dfcolumns = pd.DataFrame(x.columns)\n",
    "\n",
    "featureScores = pd.concat([dfcolumns, dfscores], axis=1)\n",
    "featureScores.columns = ['Feature', 'Score']\n",
    "\n",
    "print(featureScores.nlargest(3, 'Score'))"
   ]
  },
  {
   "cell_type": "code",
   "execution_count": null,
   "metadata": {},
   "outputs": [],
   "source": [
    "from sklearn.ensemble import ExtraTreesClassifier"
   ]
  },
  {
   "cell_type": "code",
   "execution_count": null,
   "metadata": {},
   "outputs": [],
   "source": [
    "x = test.iloc[:, 16:18]\n",
    "y = test.iloc[:, -18]\n",
    "\n",
    "model = ExtraTreesClassifier()\n",
    "model.fit(x, y)\n",
    "\n",
    "print(model.feature_importances_)\n",
    "\n",
    "feat_importances = pd.Series(model.feature_importances_, index = x.columns)\n",
    "feat_importances.nlargest(3).plot(kind='barh', figsize = (12, 8))\n",
    "\n",
    "plt.xlabel('Importances', fontsize = 20)\n",
    "plt.ylabel('Statistic', fontsize = 20)"
   ]
  },
  {
   "cell_type": "code",
   "execution_count": null,
   "metadata": {},
   "outputs": [],
   "source": [
    "from sklearn.linear_model import LinearRegression"
   ]
  },
  {
   "cell_type": "code",
   "execution_count": null,
   "metadata": {},
   "outputs": [],
   "source": [
    "x = df[['OBP', 'SLG']].values\n",
    "y = df[['OPS']].values\n",
    "ops = LinearRegression()\n",
    "ops.fit(x, y)\n",
    "\n",
    "print(ops.intercept_)\n",
    "print(ops.coef_)"
   ]
  },
  {
   "cell_type": "code",
   "execution_count": null,
   "metadata": {},
   "outputs": [],
   "source": [
    "ops.predict([[0.340, 0.485]])"
   ]
  },
  {
   "cell_type": "code",
   "execution_count": null,
   "metadata": {},
   "outputs": [],
   "source": []
  }
 ],
 "metadata": {
  "interpreter": {
   "hash": "b0fa6594d8f4cbf19f97940f81e996739fb7646882a419484c72d19e05852a7e"
  },
  "kernelspec": {
   "display_name": "Python 3.9.12 64-bit",
   "language": "python",
   "name": "python3"
  },
  "language_info": {
   "codemirror_mode": {
    "name": "ipython",
    "version": 3
   },
   "file_extension": ".py",
   "mimetype": "text/x-python",
   "name": "python",
   "nbconvert_exporter": "python",
   "pygments_lexer": "ipython3",
   "version": "3.10.7"
  },
  "orig_nbformat": 4
 },
 "nbformat": 4,
 "nbformat_minor": 2
}
